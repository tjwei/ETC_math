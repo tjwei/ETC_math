{
 "cells": [
  {
   "cell_type": "markdown",
   "metadata": {},
   "source": [
    "# 利用資料找找有沒有有趣的事情\n",
    "\n",
    "## Q\n",
    "有沒有人是同一個點下去有上來反方向？\n",
    "\n",
    "是走錯路嗎？\n",
    "\n",
    "最久隔多久？\n",
    "\n",
    "\n",
    "## Q\n",
    "有哪些跨越高速公路的連結？ 都是交流道嗎？\n",
    "\n",
    "\n",
    "## Q \n",
    "\n",
    "最快的速度有多少？\n",
    "\n",
    "每個時段、路段的速度是如何變化的？\n",
    "\n",
    "不同車子的類別？\n",
    "\n",
    "依照時段路段，超速的比例是如何？\n",
    "\n",
    "如何找慢車？\n",
    "\n",
    "## Q\n",
    "車子移動的動畫？\n",
    "\n",
    "\n",
    "## Q\n",
    "利用速限的分段點來改善速度限制的判定？ \n",
    "\n",
    "## Q\n",
    "是否有可能會影響隱私權？\n",
    "\n",
    "## Q\n",
    "車速過快是否能逃過 ETC 偵測？"
   ]
  }
 ],
 "metadata": {
  "kernelspec": {
   "display_name": "Python 3",
   "language": "python",
   "name": "python3"
  },
  "language_info": {
   "codemirror_mode": {
    "name": "ipython",
    "version": 3
   },
   "file_extension": ".py",
   "mimetype": "text/x-python",
   "name": "python",
   "nbconvert_exporter": "python",
   "pygments_lexer": "ipython3",
   "version": "3.5.2+"
  }
 },
 "nbformat": 4,
 "nbformat_minor": 2
}
