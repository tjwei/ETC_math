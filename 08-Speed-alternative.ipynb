{
 "cells": [
  {
   "cell_type": "markdown",
   "metadata": {},
   "source": [
    "### 用更 padas 的方法來處理\n"
   ]
  },
  {
   "cell_type": "code",
   "execution_count": 1,
   "metadata": {
    "collapsed": false
   },
   "outputs": [],
   "source": [
    "import tqdm\n",
    "import tarfile\n",
    "import pandas\n",
    "import matplotlib\n",
    "import matplotlib.pyplot as plt\n",
    "import numpy as np\n",
    "import PIL\n",
    "import gzip\n",
    "from urllib.request import urlopen\n",
    "%matplotlib inline\n",
    "matplotlib.style.use('seaborn-bright')\n",
    "# progress bar\n",
    "tqdm.tqdm.pandas()\n",
    "\n",
    "# 檔案名稱格式\n",
    "filename_format=\"M06A_{year:04d}{month:02d}{day:02d}.tar.gz\".format\n",
    "xz_filename_format=\"xz/M06A_{year:04d}{month:02d}{day:02d}.tar.xz\".format\n",
    "csv_format = \"M06A/{year:04d}{month:02d}{day:02d}/{hour:02d}/TDCS_M06A_{year:04d}{month:02d}{day:02d}_{hour:02d}0000.csv\".format\n",
    "\n",
    "# 設定欄位名稱\n",
    "M06A_fields = ['VehicleType',\n",
    "               'DetectionTime_O','GantryID_O',\n",
    "               'DetectionTime_D','GantryID_D ',\n",
    "               'TripLength', 'TripEnd', 'TripInformation']\n",
    "import datetime\n",
    "# 用來解析時間格式\n",
    "def strptime(x):\n",
    "    return datetime.datetime(int(x[:4]), int(x[5:7]), int(x[8:10]), \n",
    "                             int(x[11:13]), int(x[14:16]), int(x[17:19]) )\n",
    "\n",
    "def parse_tripinfo(tripinfo):\n",
    "    split1 = tripinfo.split(\"; \")\n",
    "    return [(strptime(t), t[20:]) for t in split1]"
   ]
  },
  {
   "cell_type": "code",
   "execution_count": 2,
   "metadata": {
    "collapsed": true
   },
   "outputs": [],
   "source": [
    "## 讀取檔案\n",
    "node_data=pandas.read_json('node_data.json')\n",
    "speedlimit = pandas.read_json('speedlimit.json')\n",
    "speedlimit_lookup = node_data.速限.to_dict()"
   ]
  },
  {
   "cell_type": "code",
   "execution_count": 3,
   "metadata": {
    "collapsed": true
   },
   "outputs": [],
   "source": [
    "# 打開剛才下載的檔案試試\n",
    "data_config ={\"year\":2016, \"month\":12, \"day\":18}\n",
    "tar = tarfile.open(filename_format(**data_config), 'r')\n",
    "\n",
    "# 如果沒有下載，可以試試看 xz 檔案\n",
    "#data_dconfig ={\"year\":2016, \"month\":11, \"day\":18}\n",
    "#tar = tarfile.open(xz_filename_format(**data_config), 'r')"
   ]
  },
  {
   "cell_type": "code",
   "execution_count": 4,
   "metadata": {
    "collapsed": true
   },
   "outputs": [],
   "source": [
    "import datetime\n",
    "# 用來解析時間格式\n",
    "def strptime(x):\n",
    "    return datetime.datetime(int(x[:4]), int(x[5:7]), int(x[8:10]), \n",
    "                             int(x[11:13]), int(x[14:16]), int(x[17:19]) )"
   ]
  },
  {
   "cell_type": "code",
   "execution_count": 5,
   "metadata": {
    "collapsed": false
   },
   "outputs": [
    {
     "name": "stdout",
     "output_type": "stream",
     "text": [
      "process hr=0\n",
      "資料大小 (49270, 8)\n",
      "process hr=1\n",
      "資料大小 (30907, 8)\n",
      "process hr=2\n",
      "資料大小 (21924, 8)\n",
      "process hr=3\n",
      "資料大小 (19492, 8)\n",
      "process hr=4\n",
      "資料大小 (25457, 8)\n",
      "process hr=5\n",
      "資料大小 (42288, 8)\n",
      "process hr=6\n",
      "資料大小 (74356, 8)\n",
      "process hr=7\n",
      "資料大小 (124572, 8)\n",
      "process hr=8\n",
      "資料大小 (159241, 8)\n",
      "process hr=9\n",
      "資料大小 (188494, 8)\n",
      "process hr=10\n",
      "資料大小 (211247, 8)\n",
      "process hr=11\n",
      "資料大小 (208696, 8)\n",
      "process hr=12\n",
      "資料大小 (185384, 8)\n",
      "process hr=13\n",
      "資料大小 (206212, 8)\n",
      "process hr=14\n",
      "資料大小 (232777, 8)\n",
      "process hr=15\n",
      "資料大小 (240097, 8)\n",
      "process hr=16\n",
      "資料大小 (234978, 8)\n",
      "process hr=17\n",
      "資料大小 (223697, 8)\n",
      "process hr=18\n",
      "資料大小 (191004, 8)\n",
      "process hr=19\n",
      "資料大小 (183922, 8)\n",
      "process hr=20\n",
      "資料大小 (179076, 8)\n",
      "process hr=21\n",
      "資料大小 (153505, 8)\n",
      "process hr=22\n",
      "資料大小 (104948, 8)\n",
      "process hr=23\n",
      "資料大小 (59062, 8)\n"
     ]
    }
   ],
   "source": [
    "from itertools import repeat, chain\n",
    "valid_datas = []\n",
    "for hr in range(24):\n",
    "    print(\"process hr={}\".format(hr))\n",
    "    csv = tar.extractfile(csv_format(hour=hr, **data_config))\n",
    "    data = pandas.read_csv(csv, names=M06A_fields)\n",
    "    print(\"資料大小\", data.shape)\n",
    "    data = data[data.TripEnd == 'Y']\n",
    "    drop_labels = [k for k in data.columns if k not in ['VehicleType', 'TripInformation']]\n",
    "    data.drop(drop_labels, axis=1, inplace=True)\n",
    "    # build trip_data\n",
    "    split_tripinfo = data.TripInformation.str.split(\"; \")\n",
    "    list_tripseg = list(chain(*split_tripinfo))\n",
    "    tripinfo_len = split_tripinfo.apply(len)    \n",
    "    chain_id = chain(*(repeat(*x) for x in zip(data.index, tripinfo_len) ))\n",
    "    chain_vt = chain(*(repeat(*x) for x in zip(data.VehicleType, tripinfo_len) ))\n",
    "    trip_data = pandas.DataFrame.from_records(zip(chain_id, chain_vt, list_tripseg), columns=['trip_id', 'VehicleType', 'trip_info'])\n",
    "    # compute trip_info\n",
    "    trip_data['time'] = trip_data.trip_info.apply(strptime)\n",
    "    trip_data['speed_limit'] = trip_data.trip_info.str[20:].apply(speedlimit_lookup.get)\n",
    "    trip_data['highway']= trip_data.trip_info.str[20:23]\n",
    "    trip_data['km']= trip_data.trip_info.str[23:27]\n",
    "    trip_data['dir']= trip_data.trip_info.str[27:]\n",
    "    trip_data = trip_data.drop('trip_info', axis=1)\n",
    "    trip_data = trip_data.drop(trip_data[trip_data.km.str.startswith('R')].index)\n",
    "    trip_data.km = trip_data.km.astype(float)/10\n",
    "    trip_data['time_delta'] = trip_data.time.diff()    \n",
    "    trip_data['km_delta'] = np.abs(trip_data.km.diff())\n",
    "    trip_data['speed_limit'] = pandas.concat([trip_data.speed_limit, trip_data.speed_limit.shift(1)], axis=1).max(axis=1)\n",
    "    trip_data['same_highway'] = (trip_data.highway == trip_data.highway.shift()) & \\\n",
    "    (trip_data.dir == trip_data.dir.shift()) & (trip_data.trip_id == trip_data.trip_id.shift())\n",
    "    valid_trip = trip_data.drop(trip_data[-trip_data.same_highway].index)\n",
    "    del trip_data\n",
    "    valid_trip['speed'] = valid_trip.km_delta * 3600 / valid_trip.time_delta.apply(lambda x: x.total_seconds())\n",
    "    valid_trip['is_speeding'] = valid_trip.eval(\"speed > speed_limit+10\")\n",
    "    valid_trip.drop('same_highway', axis=1, inplace=1)\n",
    "    valid_datas.append(valid_trip)\n"
   ]
  },
  {
   "cell_type": "code",
   "execution_count": 8,
   "metadata": {
    "collapsed": true
   },
   "outputs": [],
   "source": [
    "valid_trip = pandas.concat(valid_datas, ignore_index=True)\n",
    "del valid_datas"
   ]
  },
  {
   "cell_type": "code",
   "execution_count": 9,
   "metadata": {
    "collapsed": false
   },
   "outputs": [
    {
     "data": {
      "text/plain": [
       "count    1.407309e+07\n",
       "mean     9.326808e+01\n",
       "std      2.160265e+01\n",
       "min      1.215028e+00\n",
       "25%      8.737864e+01\n",
       "50%      9.800000e+01\n",
       "75%      1.064452e+02\n",
       "max      2.546341e+02\n",
       "Name: speed, dtype: float64"
      ]
     },
     "execution_count": 9,
     "metadata": {},
     "output_type": "execute_result"
    }
   ],
   "source": [
    "valid_trip.speed.describe()"
   ]
  },
  {
   "cell_type": "code",
   "execution_count": 10,
   "metadata": {
    "collapsed": false
   },
   "outputs": [
    {
     "data": {
      "text/plain": [
       "0.079701833762296254"
      ]
     },
     "execution_count": 10,
     "metadata": {},
     "output_type": "execute_result"
    }
   ],
   "source": [
    "# 有超速的路段平均\n",
    "valid_trip.is_speeding.mean()"
   ]
  },
  {
   "cell_type": "code",
   "execution_count": null,
   "metadata": {
    "collapsed": true
   },
   "outputs": [],
   "source": []
  }
 ],
 "metadata": {
  "kernelspec": {
   "display_name": "Python 3",
   "language": "python",
   "name": "python3"
  },
  "language_info": {
   "codemirror_mode": {
    "name": "ipython",
    "version": 3
   },
   "file_extension": ".py",
   "mimetype": "text/x-python",
   "name": "python",
   "nbconvert_exporter": "python",
   "pygments_lexer": "ipython3",
   "version": "3.5.2+"
  },
  "widgets": {
   "state": {
    "05296829a06d47b6bda9b367cd3fcfde": {
     "views": [
      {
       "cell_index": 5
      }
     ]
    },
    "0fcd71dfeb4348ae93846c0ee9c82c7c": {
     "views": [
      {
       "cell_index": 5
      }
     ]
    },
    "14ad7837626e4cfd8213fac950e905e3": {
     "views": [
      {
       "cell_index": 5
      }
     ]
    },
    "18ebdd49eb514ea28a367a2752883bd6": {
     "views": [
      {
       "cell_index": 5
      }
     ]
    },
    "19db1df912384e6591f8c418500f0f03": {
     "views": [
      {
       "cell_index": 5
      }
     ]
    },
    "1c157f83e301489bab44b69117c4bbef": {
     "views": [
      {
       "cell_index": 5
      }
     ]
    },
    "1d3a1d162b8e4445adec8f52bcda9481": {
     "views": [
      {
       "cell_index": 5
      }
     ]
    },
    "22e10e686353488ea8552b591c3aa0d8": {
     "views": [
      {
       "cell_index": 5
      }
     ]
    },
    "2b6e21f7f1d443d89aa94a1a9a880290": {
     "views": [
      {
       "cell_index": 5
      }
     ]
    },
    "2debcdc5c7c544deac924d300632687e": {
     "views": [
      {
       "cell_index": 5
      }
     ]
    },
    "370f5ed7f9564b59a007864c3f77fb3f": {
     "views": [
      {
       "cell_index": 5
      }
     ]
    },
    "3a932b73dd4847c7b6b535c315d58bde": {
     "views": [
      {
       "cell_index": 5
      }
     ]
    },
    "4092aa81dfcd4275a55485f5df96d0fc": {
     "views": [
      {
       "cell_index": 5
      }
     ]
    },
    "4545207c38f049e1b29a86b9298d9000": {
     "views": [
      {
       "cell_index": 5
      }
     ]
    },
    "461435474f224a8cac75a1bd89156088": {
     "views": [
      {
       "cell_index": 5
      }
     ]
    },
    "48c0f4d20d16475490a6c743143add3b": {
     "views": [
      {
       "cell_index": 5
      }
     ]
    },
    "4acfff2fc26c4727967d6cfca044460e": {
     "views": [
      {
       "cell_index": 5
      }
     ]
    },
    "586b9f135f20493198e6273cabb90f2b": {
     "views": [
      {
       "cell_index": 5
      }
     ]
    },
    "5bb285832b6d417aa26433113849db2b": {
     "views": [
      {
       "cell_index": 5
      }
     ]
    },
    "5e2a151d1056435789d818db90d6fe1c": {
     "views": [
      {
       "cell_index": 5
      }
     ]
    },
    "5ef69d7410db4d13aeb5cb46e809a666": {
     "views": [
      {
       "cell_index": 5
      }
     ]
    },
    "68ef3ffae25947f0b94009f3230535d6": {
     "views": [
      {
       "cell_index": 5
      }
     ]
    },
    "6e41ebb3f778442bbe7ac00ec623d13d": {
     "views": [
      {
       "cell_index": 5
      }
     ]
    },
    "73301378470946bdb20f18ecc9029c6b": {
     "views": [
      {
       "cell_index": 5
      }
     ]
    },
    "74adfa75af1e4aa69314bf31917d8625": {
     "views": [
      {
       "cell_index": 5
      }
     ]
    },
    "78d808742ebd4269a4099f09184b1dc9": {
     "views": [
      {
       "cell_index": 5
      }
     ]
    },
    "8ef7b99e64c74cdf89a20c3b72552740": {
     "views": [
      {
       "cell_index": 5
      }
     ]
    },
    "8fb5916f1ef84a91b6c708f8997791bb": {
     "views": [
      {
       "cell_index": 5
      }
     ]
    },
    "90ee7dfbfb4847e585e33384a2723791": {
     "views": [
      {
       "cell_index": 5
      }
     ]
    },
    "91d3d3a8e09440188f87ed1605bbb909": {
     "views": [
      {
       "cell_index": 5
      }
     ]
    },
    "93e6d604eb1041bf965d4bf0ed26471b": {
     "views": [
      {
       "cell_index": 5
      }
     ]
    },
    "99eb818768284f81b813bff7e366a2c4": {
     "views": [
      {
       "cell_index": 5
      }
     ]
    },
    "a5568994aa7041689f26359998686e0e": {
     "views": [
      {
       "cell_index": 5
      }
     ]
    },
    "a7aa093bd424428c946557660d115182": {
     "views": [
      {
       "cell_index": 5
      }
     ]
    },
    "b3bc4be33ed94a7984297cf2c5b73d9e": {
     "views": [
      {
       "cell_index": 5
      }
     ]
    },
    "ba29af9f15cf4390a7e1fbcd47146fd0": {
     "views": [
      {
       "cell_index": 5
      }
     ]
    },
    "c0208ae4873149c192739c854d341eb3": {
     "views": [
      {
       "cell_index": 5
      }
     ]
    },
    "c8c0a9bc6d5c443e882beb248289fd37": {
     "views": [
      {
       "cell_index": 5
      }
     ]
    },
    "cee324e56f8d434cafc58a241f03b143": {
     "views": [
      {
       "cell_index": 5
      }
     ]
    },
    "dbf918f1817f4833a08b7062a99481dd": {
     "views": [
      {
       "cell_index": 5
      }
     ]
    },
    "de293c9ac79e4fdb894fbb1870720c64": {
     "views": [
      {
       "cell_index": 5
      }
     ]
    },
    "e5624848f21e428ea24a7d507026d9a8": {
     "views": [
      {
       "cell_index": 5
      }
     ]
    },
    "ef33b97cf2d14da5a1207884acde8c16": {
     "views": [
      {
       "cell_index": 5
      }
     ]
    },
    "ef9f3f47526d4761b0e4d6edd6bfa845": {
     "views": [
      {
       "cell_index": 5
      }
     ]
    },
    "f002937a8ca4421d8fc8dd34adb1608d": {
     "views": [
      {
       "cell_index": 5
      }
     ]
    },
    "f651bc91e8fc4d68ade8703912a281f3": {
     "views": [
      {
       "cell_index": 5
      }
     ]
    },
    "f6bf3a1186494be287880b0659dd7e53": {
     "views": [
      {
       "cell_index": 5
      }
     ]
    },
    "fa7c48c394c34b54b5b1939cc917ccfe": {
     "views": [
      {
       "cell_index": 5
      }
     ]
    }
   },
   "version": "1.2.0"
  }
 },
 "nbformat": 4,
 "nbformat_minor": 1
}
